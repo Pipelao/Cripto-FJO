{
 "cells": [
  {
   "cell_type": "code",
   "execution_count": 1,
   "id": "166d5812-6598-4e43-87fa-515c57d75ddb",
   "metadata": {},
   "outputs": [],
   "source": [
    "import random\n",
    "import numpy as np"
   ]
  },
  {
   "cell_type": "code",
   "execution_count": 2,
   "id": "6a6ffb8b-184a-48c6-a775-549e649f16fd",
   "metadata": {},
   "outputs": [],
   "source": [
    "def h_prima(H: int, mensaje: str) -> str:\n",
    "    \n",
    "    # Se divide el h0 en 4 partes de la siguiente forma\n",
    "    mascara = 0xFFFFFFFF\n",
    "    a0 = (H & (mascara << 96)) >> 96\n",
    "    b0 = (H & (mascara << 64)) >> 64\n",
    "    c0 = (H & (mascara << 32)) >> 32\n",
    "    d0 = H & mascara\n",
    "    \n",
    "    # Se especifica los shifts por ronda\n",
    "    s = []\n",
    "    s[0:15] =  [ 7, 12, 17, 22,  7, 12, 17, 22,  7, 12, 17, 22,  7, 12, 17, 22 ]\n",
    "    s[16:31] = [ 5,  9, 14, 20,  5,  9, 14, 20,  5,  9, 14, 20,  5,  9, 14, 20 ]\n",
    "    s[32:47] = [ 4, 11, 16, 23,  4, 11, 16, 23,  4, 11, 16, 23,  4, 11, 16, 23 ]\n",
    "    s[48:63] = [ 6, 10, 15, 21,  6, 10, 15, 21,  6, 10, 15, 21,  6, 10, 15, 21 ]\n",
    "      \n",
    "    k = []\n",
    "    for i in range(64):\n",
    "        k.append(int(np.floor(2**32*abs(np.sin(i + 1)))) & mascara)\n",
    "    \n",
    "    # Se inicializan las variables\n",
    "    A = a0\n",
    "    B = b0\n",
    "    C = c0\n",
    "    D = d0\n",
    "    \n",
    "    # Se divide el mensaje en chunks de 32 bits\n",
    "    M = []\n",
    "    for g in range(0,len(mensaje),4):\n",
    "        M.append(int.from_bytes(mensaje[g:g+4], byteorder='little'))\n",
    "    \n",
    "    for j in range(64):\n",
    "        F,g = 0,0\n",
    "        if 0 <= j <= 15:\n",
    "            F = (B & C) | ((~ B) & D)\n",
    "            g = j\n",
    "        elif 16 <= j <= 31:\n",
    "            F = (D & B) | ((~ D) & C)\n",
    "            g = (5*j + 1) % 16\n",
    "        elif 32 <= j <= 47:\n",
    "            F = B ^ C ^ D\n",
    "            g = (3*j + 5) % 16\n",
    "        elif 48 <= j <= 63:\n",
    "            F = C ^ (B | (~ D))\n",
    "            g = (7*j) % 16\n",
    "        \n",
    "        F = (F + A + k[j] + M[g]) & mascara\n",
    "        A = D\n",
    "        D = C\n",
    "        C = B\n",
    "        B = (B + (F << s[j] | F >> (32-s[j])) & mascara) & mascara\n",
    "        \n",
    "    a0 = (a0 + A) & mascara\n",
    "    b0 = (b0 + B) & mascara\n",
    "    c0 = (c0 + C) & mascara\n",
    "    d0 = (d0 + D) & mascara\n",
    "\n",
    "    return a0 + (b0 << 32) + (c0 << 64) + (d0 << 96)"
   ]
  },
  {
   "cell_type": "code",
   "execution_count": 3,
   "id": "13cb902f-1193-465d-bf00-6c4a649091eb",
   "metadata": {},
   "outputs": [],
   "source": [
    "def md5_to_hex(digest):\n",
    "    raw = digest.to_bytes(16, byteorder='little')\n",
    "    return '{:032x}'.format(int.from_bytes(raw, byteorder='big'))"
   ]
  },
  {
   "cell_type": "code",
   "execution_count": 4,
   "id": "62deca16-7902-4530-b0af-3c90d94c8646",
   "metadata": {},
   "outputs": [],
   "source": [
    "def tuplaGrupo():\n",
    "    definitiva = []\n",
    "    with open(\"grupo.txt\", \"r\") as file:\n",
    "        lineas = file.readlines()\n",
    "        for linea in lineas:\n",
    "            definitiva.append(linea.strip())\n",
    "    largo = \" \".join(definitiva)\n",
    "    ahora_si = largo.split(\",\")\n",
    "    primera = ahora_si[0].split(\" \")\n",
    "    segunda = ahora_si[1].split(\" \")\n",
    "    tercera = ahora_si[2].split(\" \")\n",
    "    p = int(\"0x\" + \"\".join(primera), 16)\n",
    "    g = int(\"0x\" + \"\".join(segunda), 16)\n",
    "    q = int(\"0x\" + \"\".join(tercera), 16)\n",
    "    return p, g, q"
   ]
  },
  {
   "cell_type": "code",
   "execution_count": 5,
   "id": "abf09433-a9b6-4347-9577-4be8e949fec4",
   "metadata": {},
   "outputs": [],
   "source": [
    "def alg_ext_euclides(a: int, b: int) -> (int, int, int):\n",
    "    # Argumentos :\n",
    "    # a: int\n",
    "    # b: int - a >= b 0 y a > 0\n",
    "    # Retorna:\n",
    "    # (int, int, int) - maximo comun divisor MCD(a, b) entre a y b,\n",
    "    # numeros enteros s y t tales que MCD(a, b) = s*a + t*b\n",
    "    s1 = 1\n",
    "    t1 = 0\n",
    "    s2 = 0\n",
    "    t2 = 1\n",
    "    resultado = a % b\n",
    "    mcd = b\n",
    "    while resultado != 0:\n",
    "        s_aux = s1 - (a // b)*s2\n",
    "        t_aux = t1 - (a // b)*t2\n",
    "        s1 = s2\n",
    "        t1 = t2\n",
    "        s2 = s_aux\n",
    "        t2 = t_aux\n",
    "        a = b\n",
    "        b = resultado\n",
    "        mcd = resultado\n",
    "        resultado = a % b\n",
    "    return (mcd, s2, t2)"
   ]
  },
  {
   "cell_type": "code",
   "execution_count": 6,
   "id": "9c4d9ff0-0a75-4425-98f7-cd3d2add6671",
   "metadata": {},
   "outputs": [],
   "source": [
    "def inverso(a: int, n: int) -> int:\n",
    "    # Argumentos:\n",
    "    # a: int - a >= 1\n",
    "    # n: int - n >= 2, a y n son primos relativos\n",
    "    # Retorna:\n",
    "    # int - inverso de a en modulo n\n",
    "    mcd, s, t = alg_ext_euclides(a,n)\n",
    "    if mcd == 1:\n",
    "        while s < 0:\n",
    "            s += n\n",
    "        if 0 <= s <= n-1:\n",
    "            return s"
   ]
  },
  {
   "cell_type": "code",
   "execution_count": 7,
   "id": "3fe2f9df-62e4-49a5-8fba-0ddf237df39f",
   "metadata": {},
   "outputs": [],
   "source": [
    "def exp_mod(a: int, b: int, n: int) -> int:\n",
    "    # Argumentos:\n",
    "    # a: int - a >= 0\n",
    "    # b: int - b >= 0\n",
    "    # n: int - n > 0\n",
    "    # Retorna:\n",
    "    # int - a**b en modulo n\n",
    "    if b == 0:\n",
    "        return 1\n",
    "    elif b%2 == 0:\n",
    "        t = exp_mod(a, b//2, n)\n",
    "        return (t*t)%n\n",
    "    else:\n",
    "        t = exp_mod(a, (b-1)//2, n)\n",
    "        return (t*t*a)%n"
   ]
  },
  {
   "cell_type": "code",
   "execution_count": 8,
   "id": "d396f2dd-daa8-4ea0-abd6-b9977b6ecf38",
   "metadata": {},
   "outputs": [],
   "source": [
    "def md5(m: str) -> int:\n",
    "    # Argumentos :\n",
    "    # m: str - mensaje\n",
    "    # Retorna :\n",
    "    # int - valor de la funcion de hash MD5 aplicada sobre m\n",
    "    message = bytearray(m, 'utf-8') #copy our input into a mutable buffer\n",
    "    orig_len_in_bits = (8 * len(message)) & 0xffffffffffffffff\n",
    "    message.append(0x80)\n",
    "    while len(message)%64 != 56:\n",
    "        message.append(0)\n",
    "    message += orig_len_in_bits.to_bytes(8, byteorder='little')\n",
    "\n",
    "        \n",
    "    # Ahora se toman los estados para calcular el h_prima\n",
    "    H = 137269462086865085541390238039692956790\n",
    "    for i in range(0,len(message),64):\n",
    "        H = h_prima(H, message[i: i + 64])\n",
    "        \n",
    "    return md5_to_hex(H)   "
   ]
  },
  {
   "cell_type": "code",
   "execution_count": 9,
   "id": "f86fc438-c66b-4735-98b2-f5faa28aa6ef",
   "metadata": {},
   "outputs": [],
   "source": [
    "def generar_clave_ElGamal():\n",
    "    # Retorna :\n",
    "    # Genera una clave privada y una clave publica según el protocolo\n",
    "    # criptográfico ElGamal, para el grupo alamacenado en grupo.txt.\n",
    "    # Almacena la clave privada en private_key.txt, y la clave publica\n",
    "    # en public_key.txt\n",
    "    p, g, q = tuplaGrupo()\n",
    "    private_key = random.randint(1, q - 1)\n",
    "    public_key = exp_mod(g, private_key, p)\n",
    "    with open(\"private_key.txt\", \"w\") as private:\n",
    "        private.write(str(private_key) +\"\\n\")\n",
    "    \n",
    "    with open(\"public_key.txt\", \"w\") as public:\n",
    "        public.write(str(public_key) + \"\\n\")"
   ]
  },
  {
   "cell_type": "code",
   "execution_count": 10,
   "id": "fb8bbe92-3223-403e-afc1-49c15a37f918",
   "metadata": {},
   "outputs": [],
   "source": [
    "def firmar_Schnorr(m: str) -> (int, int):\n",
    "    # Argumentos :\n",
    "    # m: str - mensaje\n",
    "    # Retorna :\n",
    "    # (int, int) - firma de Schnorr (e, s) del mensaje m según la clave\n",
    "    # privada almacenada en private_key.txt, para el grupo almacenado\n",
    "    # en grupo.txt\n",
    "    with open(\"private_key.txt\") as private:\n",
    "        privada = private.readline().strip()\n",
    "    privada = int(privada)\n",
    "    definitiva = []\n",
    "    p, g, q = tuplaGrupo()\n",
    "    k = random.randint(1, q - 1)\n",
    "    r = exp_mod(g, k, p)\n",
    "    e = md5(str(r) + m)\n",
    "    s = (k - privada*int(e, 16))\n",
    "    return (int(e, 16), s)"
   ]
  },
  {
   "cell_type": "code",
   "execution_count": 15,
   "id": "54110fc5-e6f2-4ad9-8bed-dbb9087f0cd5",
   "metadata": {},
   "outputs": [],
   "source": [
    "def verificar_firma_Schnorr(m: str, firma: (int, int)) -> bool:\n",
    "    # Argumentos :\n",
    "    # m: str - mensaje\n",
    "    # firma: (int, int) - firma de Schnorr (e, s) para m\n",
    "    # Retorna: \n",
    "    # bool - retorna True si para el usuario con clave publica\n",
    "    # almacenada en public_key.txt, el par (e, s) es una firma de\n",
    "    # Schnorr correcta para el mensaje m, en el grupo almacenado en\n",
    "    # grupo.txt. En caso contrario retorna False\n",
    "    p, g, q = tuplaGrupo()\n",
    "    with open(\"public_key.txt\", \"r\") as public:\n",
    "        publica = public.readline().strip()\n",
    "    publica = int(publica)\n",
    "    if firma[1] < 0:\n",
    "        inverso_mod = inverso(g, p)\n",
    "        r_prima1 = exp_mod(inverso_mod, firma[1]*-1, p)\n",
    "    else:\n",
    "        r_prima1 = exp_mod(g, firma[1], p)\n",
    "    r_prima2 = exp_mod(publica, firma[0], p)\n",
    "    r_prima = exp_mod(r_prima1*r_prima2, 1, p)\n",
    "    md5_output = md5(str(r_prima) + m)\n",
    "    return int(md5_output, 16) == firma[0]"
   ]
  },
  {
   "cell_type": "code",
   "execution_count": 16,
   "id": "ee49fd36-b386-4e46-a2a9-17e761917ce9",
   "metadata": {},
   "outputs": [],
   "source": [
    "generar_clave_ElGamal()"
   ]
  },
  {
   "cell_type": "code",
   "execution_count": 19,
   "id": "f1c07178-e11f-4d9d-8bb7-28a7b0481ba3",
   "metadata": {},
   "outputs": [
    {
     "data": {
      "text/plain": [
       "(28624707906479628785782656608920168138,\n",
       " -955595366342964847313864264423390605639516746144042611561314882494630801523485131427896105982786589614862438672872)"
      ]
     },
     "execution_count": 19,
     "metadata": {},
     "output_type": "execute_result"
    }
   ],
   "source": [
    "firme = firmar_Schnorr(\"chaaao\")\n",
    "firme"
   ]
  },
  {
   "cell_type": "code",
   "execution_count": 21,
   "id": "0aa9c2e1-f25d-4b4f-a172-f63a82c39135",
   "metadata": {},
   "outputs": [
    {
     "data": {
      "text/plain": [
       "False"
      ]
     },
     "execution_count": 21,
     "metadata": {},
     "output_type": "execute_result"
    }
   ],
   "source": [
    "verificar_firma_Schnorr(\"chaahola\", firme)"
   ]
  },
  {
   "cell_type": "code",
   "execution_count": null,
   "id": "5dea1bb1-ce25-4638-bb6c-6c6a7dc38290",
   "metadata": {},
   "outputs": [],
   "source": []
  }
 ],
 "metadata": {
  "kernelspec": {
   "display_name": "Python 3",
   "language": "python",
   "name": "python3"
  },
  "language_info": {
   "codemirror_mode": {
    "name": "ipython",
    "version": 3
   },
   "file_extension": ".py",
   "mimetype": "text/x-python",
   "name": "python",
   "nbconvert_exporter": "python",
   "pygments_lexer": "ipython3",
   "version": "3.8.9"
  }
 },
 "nbformat": 4,
 "nbformat_minor": 5
}
