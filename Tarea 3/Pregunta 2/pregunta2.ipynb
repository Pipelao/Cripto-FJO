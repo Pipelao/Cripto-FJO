{
 "cells": [
  {
   "cell_type": "code",
   "execution_count": 2,
   "id": "f86fc438-c66b-4735-98b2-f5faa28aa6ef",
   "metadata": {},
   "outputs": [],
   "source": [
    "def generar_clave_ElGamal():\n",
    "    # Retorna :\n",
    "    # Genera una clave privada y una clave publica según el protocolo\n",
    "    # criptográfico ElGamal, para el grupo alamacenado en grupo.txt.\n",
    "    # Almacena la clave privada en private_key.txt, y la clave publica\n",
    "    # en public_key.txt\n",
    "    return "
   ]
  },
  {
   "cell_type": "code",
   "execution_count": 3,
   "id": "fb8bbe92-3223-403e-afc1-49c15a37f918",
   "metadata": {},
   "outputs": [],
   "source": [
    "def firmar_Schnorr(m: str) -> (int, int):\n",
    "    # Argumentos :\n",
    "    # m: str - mensaje\n",
    "    # Retorna :\n",
    "    # (int, int) - firma de Schnorr (e, s) del mensaje m según la clave\n",
    "    # privada almacenada en private_key.txt, para el grupo almacenado\n",
    "    # en grupo.txt\n",
    "    return"
   ]
  },
  {
   "cell_type": "code",
   "execution_count": 4,
   "id": "54110fc5-e6f2-4ad9-8bed-dbb9087f0cd5",
   "metadata": {},
   "outputs": [],
   "source": [
    "def verificar_firma_Schnorr(m: str, firma: (int, int)) -> bool:\n",
    "    # Argumentos :\n",
    "    # m: str - mensaje\n",
    "    # firma: (int, int) - firma de Schnorr (e, s) para m\n",
    "    # Retorna: \n",
    "    # bool - retorna True si para el usuario con clave publica\n",
    "    # almacenada en public_key.txt, el par (e, s) es una firma de\n",
    "    # Schnorr correcta para el mensaje m, en el grupo almacenado en\n",
    "    # grupo.txt. En caso contrario retorna False\n",
    "    return"
   ]
  },
  {
   "cell_type": "code",
   "execution_count": 5,
   "id": "d396f2dd-daa8-4ea0-abd6-b9977b6ecf38",
   "metadata": {},
   "outputs": [],
   "source": [
    "def md5(m: str) -> int:\n",
    "    # Argumentos :\n",
    "    # m: str - mensaje\n",
    "    # Retorna :\n",
    "    # int - valor de la funcion de hash MD5 aplicada sobre m\n",
    "    return"
   ]
  },
  {
   "cell_type": "code",
   "execution_count": null,
   "id": "ee49fd36-b386-4e46-a2a9-17e761917ce9",
   "metadata": {},
   "outputs": [],
   "source": []
  }
 ],
 "metadata": {
  "kernelspec": {
   "display_name": "Python 3",
   "language": "python",
   "name": "python3"
  },
  "language_info": {
   "codemirror_mode": {
    "name": "ipython",
    "version": 3
   },
   "file_extension": ".py",
   "mimetype": "text/x-python",
   "name": "python",
   "nbconvert_exporter": "python",
   "pygments_lexer": "ipython3",
   "version": "3.8.9"
  }
 },
 "nbformat": 4,
 "nbformat_minor": 5
}
