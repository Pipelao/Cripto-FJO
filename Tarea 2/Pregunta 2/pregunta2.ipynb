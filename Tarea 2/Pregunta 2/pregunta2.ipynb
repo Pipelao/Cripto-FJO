{
 "cells": [
  {
   "cell_type": "code",
   "execution_count": 1,
   "id": "677c5cb2-bdb4-4e42-8e5b-41a91cf8d586",
   "metadata": {},
   "outputs": [],
   "source": [
    "import random"
   ]
  },
  {
   "cell_type": "code",
   "execution_count": 2,
   "id": "9e0cde1b-b464-45dd-85ee-4f638bd83a74",
   "metadata": {},
   "outputs": [],
   "source": [
    "def exp_mod(a: int, b: int, n: int) -> int:\n",
    "    # Argumentos:\n",
    "    # a: int - a >= 0\n",
    "    # b: int - b >= 0\n",
    "    # n: int - n > 0\n",
    "    # Retorna:\n",
    "    # int - a**b en modulo n\n",
    "    if b == 0:\n",
    "        return 1\n",
    "    elif b%2 == 0:\n",
    "        t = exp_mod(a, b//2, n)\n",
    "        return (t*t)%n\n",
    "    else:\n",
    "        t = exp_mod(a, (b-1)//2, n)\n",
    "        return (t*t*a)%n"
   ]
  },
  {
   "cell_type": "code",
   "execution_count": 3,
   "id": "ad3a545c-b3e3-4578-9b8a-a16fd1e2676f",
   "metadata": {},
   "outputs": [],
   "source": [
    "def miller_rabin(n: int, k: int) -> bool:\n",
    "    # Argumentos:\n",
    "    # n: int - n >= 1\n",
    "    # k: int - k >= 1\n",
    "    # Retorna:\n",
    "    # int - True si n es un numero primo, y False en caso contrario.\n",
    "    # La probabilidad de error en el test debe ser menor o igual a 2**(-k)\n",
    "    par = n - 1\n",
    "    d = par // 2\n",
    "#     print(\"d: \", d)\n",
    "    exponente = 1\n",
    "#     print(\"exponente: \", exponente)\n",
    "    while d % 2 == 0:\n",
    "        d = d // 2\n",
    "#         print(\"d en el while: \", d)\n",
    "        exponente += 1\n",
    "#         print(\"exponente: \", exponente)\n",
    "#     print(\"d: \", d)\n",
    "#     print(\"exponente: \", exponente)\n",
    "    for i in range(k):\n",
    "        continuar = False\n",
    "        rand_int = random.randint(2, n - 2)\n",
    "        x = exp_mod(rand_int,d,n)\n",
    "        if x == 1 or x == par:\n",
    "            continuar = True\n",
    "        if not continuar:\n",
    "            for j in range(exponente - 1):\n",
    "                x = exp_mod(x,2,n)\n",
    "                if x == par:\n",
    "                    continuar = True\n",
    "                    break\n",
    "        if not continuar:\n",
    "            return False\n",
    "    return True"
   ]
  },
  {
   "cell_type": "code",
   "execution_count": 4,
   "id": "18fdb928-d4bf-430d-8a32-1a5318e648c7",
   "metadata": {},
   "outputs": [],
   "source": [
    "def generar_primo(l: int) -> int:\n",
    "    # Argumentos:\n",
    "    # l: int - l >= 1\n",
    "    # Retorna:\n",
    "    # int - numero primo con al menos l digitos. La probabilidad de\n",
    "    # error en la generacion debe ser menor o igual a 2**(-100)\n",
    "    aleatorio = random.randint(10**(l-1), 10**(l))\n",
    "    posible_primo = miller_rabin(aleatorio, 50)\n",
    "    while not posible_primo:\n",
    "        aleatorio = random.randint(10**(l-1), 10**(l))\n",
    "        posible_primo = miller_rabin(aleatorio, 50)\n",
    "    return aleatorio"
   ]
  },
  {
   "cell_type": "code",
   "execution_count": 5,
   "id": "7cccd52d-d942-486b-af42-9b739fb23091",
   "metadata": {},
   "outputs": [],
   "source": [
    "def alg_ext_euclides(a: int, b: int) -> (int, int, int):\n",
    "    # Argumentos :\n",
    "    # a: int\n",
    "    # b: int - a >= b 0 y a > 0\n",
    "    # Retorna:\n",
    "    # (int, int, int) - maximo comun divisor MCD(a, b) entre a y b,\n",
    "    # numeros enteros s y t tales que MCD(a, b) = s*a + t*b\n",
    "    s1 = 1\n",
    "    t1 = 0\n",
    "    s2 = 0\n",
    "    t2 = 1\n",
    "    resultado = a % b\n",
    "    mcd = b\n",
    "    while resultado != 0:\n",
    "#         print(\"resultado: \", resultado)\n",
    "#         print(\"a: \", a)\n",
    "#         print(\"b: \", b)\n",
    "        s_aux = s1 - (a // b)*s2\n",
    "        t_aux = t1 - (a // b)*t2\n",
    "        s1 = s2\n",
    "        t1 = t2\n",
    "        s2 = s_aux\n",
    "        t2 = t_aux\n",
    "#         print(\"s1: \", s1)\n",
    "#         print(\"s2: \", s2)\n",
    "#         print(\"t1: \", t1)\n",
    "#         print(\"t2: \", t2)\n",
    "        a = b\n",
    "        b = resultado\n",
    "        mcd = resultado\n",
    "        resultado = a % b\n",
    "    return (mcd, s2, t2)"
   ]
  },
  {
   "cell_type": "code",
   "execution_count": 6,
   "id": "95f9ab93-d9f5-4984-b6a9-1f3fe945028a",
   "metadata": {},
   "outputs": [],
   "source": [
    "def inverso(a: int, n: int) -> int:\n",
    "    # Argumentos:\n",
    "    # a: int - a >= 1\n",
    "    # n: int - n >= 2, a y n son primos relativos\n",
    "    # Retorna:\n",
    "    # int - inverso de a en modulo n\n",
    "    mcd, s, t = alg_ext_euclides(a,n)\n",
    "    if mcd == 1:\n",
    "        return s"
   ]
  },
  {
   "cell_type": "code",
   "execution_count": 29,
   "id": "52df808d-ffbd-4221-8d2c-69298baa2143",
   "metadata": {},
   "outputs": [],
   "source": [
    "def generar_clave(l: int):\n",
    "    # Argumentos:\n",
    "    # l: int - largo de las claves a ser generadas\n",
    "    # Retorna:\n",
    "    # genera una clave privada (d, N) y una clave publica (e, N) tales\n",
    "    # que d, e y N tienen al menos l digitos. La clave privada debe\n",
    "    # ser almacenada en un archivo private_key.txt en el formato:\n",
    "    # d\n",
    "    # N\n",
    "    # La clave publica debe ser almacenada de la misma forma en\n",
    "    # en un archivo public_key.txt\n",
    "    P = generar_primo(20)\n",
    "    Q = generar_primo(20)\n",
    "    while P == Q:\n",
    "        Q = generar_primo(20)\n",
    "    N = P*Q\n",
    "    phi_n = (P - 1)*(Q - 1)\n",
    "    d = random.randint(0, phi_n - 1)\n",
    "    mcd,s,t = alg_ext_euclides(phi_n, d)\n",
    "    while mcd != 1:\n",
    "        d = random.randint(0, phi_n - 1)\n",
    "        mcd,s,t = alg_ext_euclides(phi_n, d)\n",
    "    print(\"d: \", d)\n",
    "    \n",
    "    e = inverso(d, phi_n)\n",
    "    \n",
    "    with open(\"private_key.txt\", \"w\") as private:\n",
    "        private.write(str(d) +\"\\n\" + str(N) + \"\\n\")\n",
    "    \n",
    "    with open(\"public_key.txt\", \"w\") as public:\n",
    "        public.write(str(e) + \"\\n\" + str(N) + \"\\n\")"
   ]
  },
  {
   "cell_type": "code",
   "execution_count": 32,
   "id": "ec8d62c7-a02e-4e45-846b-3f05c90eeee0",
   "metadata": {},
   "outputs": [],
   "source": [
    "def enc(m: int) -> int:\n",
    "    # Argumentos:\n",
    "    # m: int - 0 <= m <= N-1, suponiendo que la clave publica\n",
    "    # almacenada en public_key.txt es (e, N)\n",
    "    # Retorna:\n",
    "    # int: cifrado de m de acuerdo con la clave publica almacenada\n",
    "    # en public_key.txt\n",
    "    with open(\"public_key.txt\") as public:\n",
    "        primera = public.readline().strip()\n",
    "        segunda = public.readline().strip()\n",
    "    return exp_mod(m, int(primera), int(segunda))"
   ]
  },
  {
   "cell_type": "code",
   "execution_count": 34,
   "id": "b9c8efb2-cb80-432d-8ea2-ec31604f909a",
   "metadata": {},
   "outputs": [],
   "source": [
    "def dec(m: int) -> int:\n",
    "    # Argumentos:\n",
    "    # m: int - 0 <= m <= N-1, suponiendo que la clave privada\n",
    "    # almacenada en private_key.txt es (d, N)\n",
    "    # Retorna:\n",
    "    # int: descifrado de m de acuerdo con la clave privada\n",
    "    # almacenada en private_key.txt\n",
    "    with open(\"private_key.txt\") as public:\n",
    "        primera = public.readline().strip()\n",
    "        segunda = public.readline().strip()\n",
    "    return exp_mod(m, int(primera), int(segunda))"
   ]
  },
  {
   "cell_type": "code",
   "execution_count": 24,
   "id": "5590b76b-d851-4be6-9fb4-49eb5246fd7e",
   "metadata": {},
   "outputs": [],
   "source": [
    "# miller_rabin(1, 50)"
   ]
  },
  {
   "cell_type": "code",
   "execution_count": 25,
   "id": "9bde28a5-f48c-4c32-8eec-b25ba3b5dd42",
   "metadata": {},
   "outputs": [
    {
     "data": {
      "text/plain": [
       "198051923960035863321684561577783596098433697216555050232622077427846680049777814045154619869240299571996531787814173589073024149307103697108375728015861923313194164360629292014925136391753887853226631280261767219829691814685892602021920122402818404396786222982106612998868847372462253506199553933703"
      ]
     },
     "execution_count": 25,
     "metadata": {},
     "output_type": "execute_result"
    }
   ],
   "source": [
    "generar_primo(300)"
   ]
  },
  {
   "cell_type": "code",
   "execution_count": 26,
   "id": "4498537b-edc3-43ec-83d3-355295fab522",
   "metadata": {},
   "outputs": [
    {
     "data": {
      "text/plain": [
       "(7, 0, 1)"
      ]
     },
     "execution_count": 26,
     "metadata": {},
     "output_type": "execute_result"
    }
   ],
   "source": [
    "alg_ext_euclides(1001, 7)"
   ]
  },
  {
   "cell_type": "code",
   "execution_count": 27,
   "id": "9d3d2429-8cc6-48fc-b614-9aa8e416d6ff",
   "metadata": {},
   "outputs": [
    {
     "data": {
      "text/plain": [
       "100000000"
      ]
     },
     "execution_count": 27,
     "metadata": {},
     "output_type": "execute_result"
    }
   ],
   "source": [
    "exp_mod(10,8,10000000000000000000000000000)"
   ]
  },
  {
   "cell_type": "code",
   "execution_count": 53,
   "id": "7b59ede6-de6f-4c06-bd53-f3690d4b3459",
   "metadata": {},
   "outputs": [
    {
     "data": {
      "text/plain": [
       "6"
      ]
     },
     "execution_count": 53,
     "metadata": {},
     "output_type": "execute_result"
    }
   ],
   "source": [
    "inverso(86, 103)"
   ]
  },
  {
   "cell_type": "code",
   "execution_count": 31,
   "id": "fb560448-d0bb-4ed2-9fb8-1e40e0180d91",
   "metadata": {},
   "outputs": [
    {
     "name": "stdout",
     "output_type": "stream",
     "text": [
      "d:  1480376247924132563648525081489277184289\n"
     ]
    }
   ],
   "source": [
    "generar_clave(20)"
   ]
  },
  {
   "cell_type": "code",
   "execution_count": 35,
   "id": "360e42cf-6c75-4394-8e3c-61c93bf50e7b",
   "metadata": {},
   "outputs": [
    {
     "data": {
      "text/plain": [
       "1990360310074677706630628399489359784955"
      ]
     },
     "execution_count": 35,
     "metadata": {},
     "output_type": "execute_result"
    }
   ],
   "source": [
    "dec(100000)"
   ]
  },
  {
   "cell_type": "code",
   "execution_count": null,
   "id": "3f426751-defc-4120-b334-8dbfd57bd82b",
   "metadata": {},
   "outputs": [],
   "source": []
  }
 ],
 "metadata": {
  "kernelspec": {
   "display_name": "Python 3",
   "language": "python",
   "name": "python3"
  },
  "language_info": {
   "codemirror_mode": {
    "name": "ipython",
    "version": 3
   },
   "file_extension": ".py",
   "mimetype": "text/x-python",
   "name": "python",
   "nbconvert_exporter": "python",
   "pygments_lexer": "ipython3",
   "version": "3.8.9"
  }
 },
 "nbformat": 4,
 "nbformat_minor": 5
}
