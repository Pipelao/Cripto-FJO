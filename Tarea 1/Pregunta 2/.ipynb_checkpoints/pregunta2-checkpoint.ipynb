{
 "cells": [
  {
   "cell_type": "code",
   "execution_count": 1,
   "id": "95fdf0ac-d745-40fe-8d29-ee2dfa0bdf3b",
   "metadata": {},
   "outputs": [],
   "source": [
    "import numpy as np"
   ]
  },
  {
   "cell_type": "code",
   "execution_count": 2,
   "id": "5fe16d64-726f-4243-b619-1a18b82f9ac6",
   "metadata": {},
   "outputs": [],
   "source": [
    "def h_prima(H: int, mensaje: str) -> str:\n",
    "    \n",
    "    # Se divide el h0 en 4 partes de la siguiente forma\n",
    "    mascara = 0xFFFFFFFF\n",
    "    a0 = (H & (mascara << 96)) >> 96\n",
    "    b0 = (H & (mascara << 64)) >> 64\n",
    "    c0 = (H & (mascara << 32)) >> 32\n",
    "    d0 = H & mascara\n",
    "    \n",
    "    # Se especifica los shifts por ronda\n",
    "    s = []\n",
    "    s[0:15] =  [ 7, 12, 17, 22,  7, 12, 17, 22,  7, 12, 17, 22,  7, 12, 17, 22 ]\n",
    "    s[16:31] = [ 5,  9, 14, 20,  5,  9, 14, 20,  5,  9, 14, 20,  5,  9, 14, 20 ]\n",
    "    s[32:47] = [ 4, 11, 16, 23,  4, 11, 16, 23,  4, 11, 16, 23,  4, 11, 16, 23 ]\n",
    "    s[48:63] = [ 6, 10, 15, 21,  6, 10, 15, 21,  6, 10, 15, 21,  6, 10, 15, 21 ]\n",
    "      \n",
    "    k = []\n",
    "    for i in range(64):\n",
    "        k.append(int(np.floor(2**32*abs(np.sin(i + 1)))) & mascara)\n",
    "    \n",
    "    # Se inicializan las variables\n",
    "    A = a0\n",
    "    B = b0\n",
    "    C = c0\n",
    "    D = d0\n",
    "    \n",
    "    # Se divide el mensaje en chunks de 32 bits\n",
    "    M = []\n",
    "    for g in range(0,len(mensaje),4):\n",
    "        M.append(int.from_bytes(mensaje[g:g+4], byteorder='little'))\n",
    "    \n",
    "    for j in range(64):\n",
    "        F,g = 0,0\n",
    "        if 0 <= j <= 15:\n",
    "            F = (B & C) | ((~ B) & D)\n",
    "            g = j\n",
    "        elif 16 <= j <= 31:\n",
    "            F = (D & B) | ((~ D) & C)\n",
    "            g = (5*j + 1) % 16\n",
    "        elif 32 <= j <= 47:\n",
    "            F = B ^ C ^ D\n",
    "            g = (3*j + 5) % 16\n",
    "        elif 48 <= j <= 63:\n",
    "            F = C ^ (B | (~ D))\n",
    "            g = (7*j) % 16\n",
    "        \n",
    "        F = (F + A + k[j] + M[g]) & mascara\n",
    "        A = D\n",
    "        D = C\n",
    "        C = B\n",
    "        B = (B + (F << s[j] | F >> (32-s[j])) & mascara) & mascara\n",
    "        \n",
    "    a0 = (a0 + A) & mascara\n",
    "    b0 = (b0 + B) & mascara\n",
    "    c0 = (c0 + C) & mascara\n",
    "    d0 = (d0 + D) & mascara\n",
    "\n",
    "    return a0 + (b0 << 32) + (c0 << 64) + (d0 << 96)"
   ]
  },
  {
   "cell_type": "code",
   "execution_count": 3,
   "id": "bf7f7e44-f1a4-4e37-ae71-1d1a432e1257",
   "metadata": {},
   "outputs": [],
   "source": [
    "def md5_to_hex(digest):\n",
    "    raw = digest.to_bytes(16, byteorder='little')\n",
    "    return '{:032x}'.format(int.from_bytes(raw, byteorder='big'))"
   ]
  },
  {
   "cell_type": "code",
   "execution_count": 4,
   "id": "94b2db52-0063-442b-8131-3f109f2e6d2c",
   "metadata": {},
   "outputs": [],
   "source": [
    "def custom_md5(m: str, h0: int) -> str:\n",
    "    # Argumentos:\n",
    "    #  m: str - mensaje\n",
    "    # h0: int - constante inicial H_0\n",
    "    # Retorna:\n",
    "    #  str - hash MD5 correcto del mensaje en formato hexadecimal\n",
    "    \n",
    "    # lo primero es dejar el mensaje divisible por 512\n",
    "    \n",
    "    # Ahora se agregarán un uno y ceros hasta que quede divisible por 512\n",
    "        \n",
    "    # Se agrega el largo original del mensaje\n",
    "    message = bytearray(m, 'utf-8') #copy our input into a mutable buffer\n",
    "    orig_len_in_bits = (8 * len(message)) & 0xffffffffffffffff\n",
    "    message.append(0x80)\n",
    "    while len(message)%64 != 56:\n",
    "        message.append(0)\n",
    "    message += orig_len_in_bits.to_bytes(8, byteorder='little')\n",
    "\n",
    "        \n",
    "    # Ahora se toman los estados para calcular el h_prima\n",
    "    H = h0\n",
    "    for i in range(0,len(message),64):\n",
    "        H = h_prima(H, message[i: i + 64])\n",
    "        \n",
    "    return md5_to_hex(H)   "
   ]
  },
  {
   "cell_type": "code",
   "execution_count": 5,
   "id": "57b557b3-06dd-4b56-8aaa-b7606e5f5f96",
   "metadata": {},
   "outputs": [
    {
     "data": {
      "text/plain": [
       "'d41d8cd98f00b204e9800998ecf8427e'"
      ]
     },
     "execution_count": 5,
     "metadata": {},
     "output_type": "execute_result"
    }
   ],
   "source": [
    "custom_md5(\"\", 137269462086865085541390238039692956790)"
   ]
  },
  {
   "cell_type": "markdown",
   "id": "82bb8b0d-3e5b-4311-acd5-c119cf026d9c",
   "metadata": {},
   "source": [
    "## Referencias\n",
    "1. https://rosettacode.org/wiki/MD5/Implementation#Python\n",
    "2. https://en.wikipedia.org/wiki/MD5\n",
    "3. https://tools.ietf.org/html/rfc1321\n",
    "4. https://paginas.fe.up.pt/~ei10109/ca/md5.html\n",
    "5. https://cse.unl.edu/~ssamal/crypto/genhash.php"
   ]
  }
 ],
 "metadata": {
  "kernelspec": {
   "display_name": "Python 3",
   "language": "python",
   "name": "python3"
  },
  "language_info": {
   "codemirror_mode": {
    "name": "ipython",
    "version": 3
   },
   "file_extension": ".py",
   "mimetype": "text/x-python",
   "name": "python",
   "nbconvert_exporter": "python",
   "pygments_lexer": "ipython3",
   "version": "3.8.9"
  }
 },
 "nbformat": 4,
 "nbformat_minor": 5
}
